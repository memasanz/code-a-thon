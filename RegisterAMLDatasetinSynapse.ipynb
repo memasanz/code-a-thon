{
  "cells": [
    {
      "cell_type": "code",
      "source": [
        "import azureml.core\r\n",
        "\r\n",
        "from azureml.core import Experiment, Workspace, Dataset, Datastore\r\n",
        "from azureml.train.automl import AutoMLConfig\r\n",
        "from notebookutils import mssparkutils\r\n",
        "from azureml.data.dataset_factory import TabularDatasetFactory"
      ],
      "outputs": [
        {
          "output_type": "display_data",
          "data": {
            "application/vnd.livy.statement-meta+json": {
              "spark_pool": "mmsparkpool",
              "session_id": 57,
              "statement_id": 9,
              "state": "finished",
              "livy_statement_state": "available",
              "queued_time": "2021-11-09T04:38:08.4408485Z",
              "session_start_time": null,
              "execution_start_time": "2021-11-09T04:38:08.5903635Z",
              "execution_finish_time": "2021-11-09T04:38:08.7405542Z"
            },
            "text/plain": "StatementMeta(mmsparkpool, 57, 9, Finished, Available)"
          },
          "metadata": {}
        }
      ],
      "execution_count": 9,
      "metadata": {}
    },
    {
      "cell_type": "code",
      "source": [
        "linkedService_name = \"LS_AML\"\r\n",
        "experiment_name = \"mm-synapse-base-NYC\"\r\n",
        "\r\n",
        "ws = mssparkutils.azureML.getWorkspace(linkedService_name)\r\n",
        "experiment = Experiment(ws, experiment_name)"
      ],
      "outputs": [
        {
          "output_type": "display_data",
          "data": {
            "application/vnd.livy.statement-meta+json": {
              "spark_pool": "mmsparkpool",
              "session_id": 57,
              "statement_id": 10,
              "state": "finished",
              "livy_statement_state": "available",
              "queued_time": "2021-11-09T04:38:10.9229371Z",
              "session_start_time": null,
              "execution_start_time": "2021-11-09T04:38:11.0039903Z",
              "execution_finish_time": "2021-11-09T04:38:12.7542947Z"
            },
            "text/plain": "StatementMeta(mmsparkpool, 57, 10, Finished, Available)"
          },
          "metadata": {}
        }
      ],
      "execution_count": 10,
      "metadata": {
        "jupyter": {
          "source_hidden": false,
          "outputs_hidden": false
        },
        "nteract": {
          "transient": {
            "deleting": false
          }
        }
      }
    },
    {
      "cell_type": "code",
      "source": [
        "blob_account_name = \"azureopendatastorage\"\r\n",
        "blob_container_name = \"nyctlc\"\r\n",
        "blob_relative_path = \"yellow\"\r\n",
        "blob_sas_token = r\"\"\r\n",
        "\r\n",
        "# Allow Spark to read from the blob remotely\r\n",
        "wasbs_path = 'wasbs://%s@%s.blob.core.windows.net/%s' % (blob_container_name, blob_account_name, blob_relative_path)\r\n",
        "spark.conf.set('fs.azure.sas.%s.%s.blob.core.windows.net' % (blob_container_name, blob_account_name),blob_sas_token)\r\n",
        "\r\n",
        "# Spark read parquet; note that it won't load any data yet\r\n",
        "df = spark.read.parquet(wasbs_path)"
      ],
      "outputs": [
        {
          "output_type": "display_data",
          "data": {
            "application/vnd.livy.statement-meta+json": {
              "spark_pool": "mmsparkpool",
              "session_id": 57,
              "statement_id": 5,
              "state": "finished",
              "livy_statement_state": "available",
              "queued_time": "2021-11-09T04:19:15.9443904Z",
              "session_start_time": null,
              "execution_start_time": "2021-11-09T04:19:16.0379116Z",
              "execution_finish_time": "2021-11-09T04:19:19.8860711Z"
            },
            "text/plain": "StatementMeta(mmsparkpool, 57, 5, Finished, Available)"
          },
          "metadata": {}
        }
      ],
      "execution_count": 5,
      "metadata": {
        "jupyter": {
          "source_hidden": false,
          "outputs_hidden": false
        },
        "nteract": {
          "transient": {
            "deleting": false
          }
        }
      }
    },
    {
      "cell_type": "code",
      "source": [
        "# Create an ingestion filter\r\n",
        "start_date = '2015-01-01 00:00:00'\r\n",
        "end_date = '2015-12-31 00:00:00'\r\n",
        "\r\n",
        "filtered_df = df.filter('tpepPickupDateTime > \"' + start_date + '\" and tpepPickupDateTime< \"' + end_date + '\"')\r\n",
        "\r\n",
        "filtered_df.describe().show()"
      ],
      "outputs": [
        {
          "output_type": "display_data",
          "data": {
            "application/vnd.livy.statement-meta+json": {
              "spark_pool": "mmsparkpool",
              "session_id": 57,
              "statement_id": 6,
              "state": "finished",
              "livy_statement_state": "available",
              "queued_time": "2021-11-09T04:19:33.9146775Z",
              "session_start_time": null,
              "execution_start_time": "2021-11-09T04:19:33.9978026Z",
              "execution_finish_time": "2021-11-09T04:23:58.9285664Z"
            },
            "text/plain": "StatementMeta(mmsparkpool, 57, 6, Finished, Available)"
          },
          "metadata": {}
        },
        {
          "output_type": "stream",
          "name": "stdout",
          "text": [
            "+-------+------------------+------------------+------------------+------------+------------+------------------+-----------------+------------------+------------------+------------------+---------------+-------------------+------------------+------------------+--------------------+--------------------+------------------+------------------+------------------+---------+------------------+\n|summary|          vendorID|    passengerCount|      tripDistance|puLocationId|doLocationId|          startLon|         startLat|            endLon|            endLat|        rateCodeId|storeAndFwdFlag|        paymentType|        fareAmount|             extra|              mtaTax|improvementSurcharge|         tipAmount|       tollsAmount|       totalAmount|   puYear|           puMonth|\n+-------+------------------+------------------+------------------+------------+------------+------------------+-----------------+------------------+------------------+------------------+---------------+-------------------+------------------+------------------+--------------------+--------------------+------------------+------------------+------------------+---------+------------------+\n|  count|         145773047|         145773047|         145773047|           0|           0|         145773047|        145773047|         145773047|         145773047|         145773047|      145773047|          145773047|         145773047|         145773047|           145773047|           145773044|         145773047|         145773047|         145773047|145773047|         145773047|\n|   mean|1.5246304963358555|1.6805232520110525|13.161147608721125|        null|        null|-72.80648051050335|40.10748359067678|-72.85319266694553| 40.13416535825792|1.0420784920548447|           null| 1.3788731671363088| 12.94134611510177|0.3140489149547652|  0.4975625422098779|  0.2983055868096646|1.7291747041486258|0.3079567449120996|16.099537129841575|   2015.0| 6.323777481306267|\n| stddev| 0.499392971877942|1.3333295722505953|19898.261209453107|        null|        null| 9.221883337311011|5.079323673152058| 9.040863011846195| 4.980297369025975|  0.66834001970069|           null|0.49921399991266896|124.74287786270162|0.5291922593411879|0.050110483813344125|0.026088963246796472| 327.2175722627287| 1.665300057381306| 357.4087942570745|      0.0|3.4405655025101676|\n|    min|                 1|                 0|     -4.08401244E7|        null|        null|-874.0026245117188|-78.1946792602539|-781.8333129882812| -78.1946792602539|                 1|              N|                  1|            -496.0|             -79.0|                -3.0|                -0.3|            -440.0|             -99.0|            -496.3|     2015|                 1|\n|    max|                 2|                 9|     1.986230136E8|        null|        null|172.60000610351562|404.8666687011719|172.60000610351562|483.45001220703125|                99|              Y|                  5|         825998.61|            999.99|                91.0|                2.39|         3950588.8|            1901.4|         3950611.6|     2015|                12|\n+-------+------------------+------------------+------------------+------------+------------+------------------+-----------------+------------------+------------------+------------------+---------------+-------------------+------------------+------------------+--------------------+--------------------+------------------+------------------+------------------+---------+------------------+"
          ]
        }
      ],
      "execution_count": 6,
      "metadata": {
        "jupyter": {
          "source_hidden": false,
          "outputs_hidden": false
        },
        "nteract": {
          "transient": {
            "deleting": false
          }
        }
      }
    },
    {
      "cell_type": "code",
      "source": [
        "from datetime import datetime\r\n",
        "from pyspark.sql.functions import *\r\n",
        "\r\n",
        "# To make development easier, faster, and less expensive, downsample for now\r\n",
        "sampled_taxi_df = filtered_df.sample(True, 0.001, seed=1234)\r\n",
        "\r\n",
        "taxi_df = sampled_taxi_df.select('vendorID', 'passengerCount', 'tripDistance',  'startLon', 'startLat', 'endLon' \\\r\n",
        "                                , 'endLat', 'paymentType', 'fareAmount', 'tipAmount'\\\r\n",
        "                                , column('puMonth').alias('month_num') \\\r\n",
        "                                , date_format('tpepPickupDateTime', 'hh').alias('hour_of_day')\\\r\n",
        "                                , date_format('tpepPickupDateTime', 'EEEE').alias('day_of_week')\\\r\n",
        "                                , dayofmonth(col('tpepPickupDateTime')).alias('day_of_month')\r\n",
        "                                ,(unix_timestamp(col('tpepDropoffDateTime')) - unix_timestamp(col('tpepPickupDateTime'))).alias('trip_time'))\\\r\n",
        "                        .filter((sampled_taxi_df.passengerCount > 0) & (sampled_taxi_df.passengerCount < 8)\\\r\n",
        "                                & (sampled_taxi_df.tipAmount >= 0)\\\r\n",
        "                                & (sampled_taxi_df.fareAmount >= 1) & (sampled_taxi_df.fareAmount <= 250)\\\r\n",
        "                                & (sampled_taxi_df.tipAmount < sampled_taxi_df.fareAmount)\\\r\n",
        "                                & (sampled_taxi_df.tripDistance > 0) & (sampled_taxi_df.tripDistance <= 200)\\\r\n",
        "                                & (sampled_taxi_df.rateCodeId <= 5)\\\r\n",
        "                                & (sampled_taxi_df.paymentType.isin({\"1\", \"2\"})))\r\n",
        "taxi_df.show(10)"
      ],
      "outputs": [
        {
          "output_type": "display_data",
          "data": {
            "application/vnd.livy.statement-meta+json": {
              "spark_pool": "mmsparkpool",
              "session_id": 57,
              "statement_id": 7,
              "state": "finished",
              "livy_statement_state": "available",
              "queued_time": "2021-11-09T04:24:28.676595Z",
              "session_start_time": null,
              "execution_start_time": "2021-11-09T04:24:28.7663317Z",
              "execution_finish_time": "2021-11-09T04:28:11.4886195Z"
            },
            "text/plain": "StatementMeta(mmsparkpool, 57, 7, Finished, Available)"
          },
          "metadata": {}
        },
        {
          "output_type": "stream",
          "name": "stdout",
          "text": [
            "+--------+--------------+------------+------------------+------------------+------------------+------------------+-----------+----------+---------+---------+-----------+-----------+------------+---------+\n|vendorID|passengerCount|tripDistance|          startLon|          startLat|            endLon|            endLat|paymentType|fareAmount|tipAmount|month_num|hour_of_day|day_of_week|day_of_month|trip_time|\n+--------+--------------+------------+------------------+------------------+------------------+------------------+-----------+----------+---------+---------+-----------+-----------+------------+---------+\n|       2|             2|        1.49|-73.99262237548828|  40.7373161315918|-73.98426818847656| 40.75123596191406|          2|      16.0|      0.0|        3|         05|    Tuesday|          10|     1671|\n|       2|             1|        0.58|-73.94739532470703|  40.7716178894043| -73.9542007446289|40.767921447753906|          2|       4.5|      0.0|        3|         11|     Monday|          30|      200|\n|       2|             1|        2.68|-73.94972229003906|40.784576416015625|-73.97443389892578|40.755611419677734|          1|      12.0|      1.3|        3|         07|     Monday|           2|      835|\n|       1|             1|         1.5|-74.00376892089844| 40.74760818481445|-73.98189544677734| 40.74617385864258|          1|       9.0|     0.01|        3|         01|     Sunday|           1|      676|\n|       1|             1|         2.2|    -73.9775390625| 40.78965377807617| -73.9586410522461|    40.76904296875|          2|       8.5|      0.0|        3|         12|     Sunday|          15|      429|\n|       2|             1|        1.94|-73.97604370117188| 40.78387451171875|-73.98649597167969| 40.76076889038086|          1|      11.5|     3.08|        3|         10|  Wednesday|          11|      952|\n|       1|             1|         0.3|-73.98320770263672| 40.75519561767578|-73.98028564453125| 40.76060485839844|          1|       5.5|      1.0|        3|         01|    Tuesday|          31|      396|\n|       2|             5|        1.37| -74.0088119506836|40.711021423339844| -74.0012435913086| 40.72782897949219|          2|       7.5|      0.0|        3|         07|   Thursday|          12|      497|\n|       1|             3|         1.9|-73.98367309570312| 40.76457595825195|-73.96845245361328|  40.7505989074707|          2|       8.5|      0.0|        3|         08|   Saturday|          28|      570|\n|       1|             1|         1.7|-73.96765899658203| 40.75640869140625|-73.97718048095703| 40.73491668701172|          2|       8.5|      0.0|        3|         02|   Saturday|          14|      579|\n+--------+--------------+------------+------------------+------------------+------------------+------------------+-----------+----------+---------+---------+-----------+-----------+------------+---------+\nonly showing top 10 rows"
          ]
        }
      ],
      "execution_count": 7,
      "metadata": {
        "jupyter": {
          "source_hidden": false,
          "outputs_hidden": false
        },
        "nteract": {
          "transient": {
            "deleting": false
          }
        }
      }
    },
    {
      "cell_type": "code",
      "source": [
        "datastore = Datastore.get_default(ws)\r\n",
        "dataset = TabularDatasetFactory.register_spark_dataframe(taxi_df, datastore, name = experiment_name + \"-dataset\")\r\n"
      ],
      "outputs": [
        {
          "output_type": "display_data",
          "data": {
            "application/vnd.livy.statement-meta+json": {
              "spark_pool": "mmsparkpool",
              "session_id": 57,
              "statement_id": 8,
              "state": "finished",
              "livy_statement_state": "available",
              "queued_time": "2021-11-09T04:29:24.4089023Z",
              "session_start_time": null,
              "execution_start_time": "2021-11-09T04:29:24.5129699Z",
              "execution_finish_time": "2021-11-09T04:32:31.5158832Z"
            },
            "text/plain": "StatementMeta(mmsparkpool, 57, 8, Finished, Available)"
          },
          "metadata": {}
        },
        {
          "output_type": "stream",
          "name": "stdout",
          "text": [
            "Method register_spark_dataframe: This is an experimental method, and may change at any time. Please see https://aka.ms/azuremlexperimental for more information.\nValidating arguments.\nArguments validated.\nWriting spark dataframe to managed-dataset/b377d19f-8c78-4a6c-b732-566ab03fd550\nCreating new dataset\nRegistering new dataset\nSuccessfully created and registered a new dataset."
          ]
        }
      ],
      "execution_count": 8,
      "metadata": {
        "jupyter": {
          "source_hidden": false,
          "outputs_hidden": false
        },
        "nteract": {
          "transient": {
            "deleting": false
          }
        }
      }
    }
  ],
  "metadata": {
    "language_info": {
      "name": "python"
    },
    "kernelspec": {
      "name": "synapse_pyspark",
      "language": "Python",
      "display_name": "Synapse PySpark"
    },
    "kernel_info": {
      "name": "synapse_pyspark"
    },
    "save_output": true,
    "synapse_widget": {
      "version": "0.1",
      "state": {}
    }
  },
  "nbformat": 4,
  "nbformat_minor": 2
}