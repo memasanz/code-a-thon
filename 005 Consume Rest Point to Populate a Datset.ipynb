{
 "cells": [
  {
   "cell_type": "code",
   "execution_count": null,
   "id": "69aee2ad",
   "metadata": {},
   "outputs": [],
   "source": [
    "from azureml.core import Workspace, Experiment, Datastore, Environment, Dataset\n",
    "import pandas as pd\n",
    "import requests\n",
    "import json"
   ]
  },
  {
   "cell_type": "code",
   "execution_count": null,
   "id": "e68cad8d",
   "metadata": {},
   "outputs": [],
   "source": [
    "import os\n",
    "directory_path = os.getcwd()\n",
    "print(\"My current directory is : \" + directory_path)\n",
    "folder_name = os.path.basename(directory_path)\n",
    "print(\"My directory name is : \" + folder_name)\n",
    "\n",
    "parent = os.path.dirname(directory_path)\n",
    "parent_folder_name = os.path.basename(parent)\n",
    "print(\"My user directory name is: \" + parent_folder_name)\n",
    "\n",
    "user = parent_folder_name"
   ]
  },
  {
   "cell_type": "code",
   "execution_count": null,
   "id": "08ba2eb4",
   "metadata": {},
   "outputs": [],
   "source": [
    "# Load the workspace from the saved config file\n",
    "ws = Workspace.from_config()\n",
    "print('Ready to use Azure ML {} to work with {}'.format(azureml.core.VERSION, ws.name))\n",
    "\n",
    "dataset_name = user + '-diabetes-tabular-dataset'\n",
    "test_dataset = Dataset.get_by_name(workspace=ws, name=dataset_name)\n",
    "x_test = test_dataset.to_pandas_dataframe()\n",
    "y_test = x_test.pop(\"Diabetic\")"
   ]
  },
  {
   "cell_type": "code",
   "execution_count": null,
   "id": "d2b07b89",
   "metadata": {},
   "outputs": [],
   "source": [
    "x_test.columns"
   ]
  },
  {
   "cell_type": "code",
   "execution_count": null,
   "id": "d00e2493",
   "metadata": {},
   "outputs": [],
   "source": [
    "json_values = x_test.head(2).to_json(orient ='records')\n",
    "print(\"json_values = \")\n",
    "print(json_values)"
   ]
  },
  {
   "cell_type": "code",
   "execution_count": null,
   "id": "b250ae7f",
   "metadata": {},
   "outputs": [],
   "source": [
    "url = 'http://xxxx-2055-44d7-bdf2-ac522fd46b1c.eastus2.azurecontainer.io/score'\n",
    "api_key = 'xxxxxx' # Replace this with the API key for the web service\n",
    "headers = {'Content-Type':'application/json', 'Authorization':('Bearer '+ api_key)}\n",
    "\n",
    "def MakePrediction(df):\n",
    "    endpoint_url = url\n",
    "    body = x_test.to_json(orient='records') \n",
    "    body = '{\"data\": ' + body + '}'\n",
    "    r = requests.post(endpoint_url, headers=headers, data=body)\n",
    "    return (r.json())\n",
    "\n",
    "\n",
    "results = MakePrediction(x_test)\n",
    "json_obj = json.loads(results)\n",
    "values = json_obj['result']\n",
    "x_test['response'] = values"
   ]
  },
  {
   "cell_type": "code",
   "execution_count": null,
   "id": "6374f74b",
   "metadata": {},
   "outputs": [],
   "source": [
    "x_test"
   ]
  },
  {
   "cell_type": "code",
   "execution_count": null,
   "id": "11c99edb",
   "metadata": {},
   "outputs": [],
   "source": []
  }
 ],
 "metadata": {
  "kernelspec": {
   "display_name": "Python 3.6 - AzureML",
   "language": "python",
   "name": "python3-azureml"
  },
  "language_info": {
   "codemirror_mode": {
    "name": "ipython",
    "version": 3
   },
   "file_extension": ".py",
   "mimetype": "text/x-python",
   "name": "python",
   "nbconvert_exporter": "python",
   "pygments_lexer": "ipython3",
   "version": "3.6.9"
  }
 },
 "nbformat": 4,
 "nbformat_minor": 5
}
